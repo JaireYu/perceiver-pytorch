{
 "metadata": {
  "language_info": {
   "codemirror_mode": {
    "name": "ipython",
    "version": 3
   },
   "file_extension": ".py",
   "mimetype": "text/x-python",
   "name": "python",
   "nbconvert_exporter": "python",
   "pygments_lexer": "ipython3",
   "version": "3.7.10"
  },
  "orig_nbformat": 4,
  "kernelspec": {
   "name": "python3",
   "display_name": "Python 3.7.10 64-bit ('py_37_pytorch': conda)"
  },
  "interpreter": {
   "hash": "6c2ae2173ca0c3d47c44f3f86a46f4bf4e090e73d19849b7ad02ae7df118ea1e"
  }
 },
 "nbformat": 4,
 "nbformat_minor": 2,
 "cells": [
  {
   "source": [
    "```py\n",
    "scales = torch.logspace(0., log(max_freq / 2) / log(base), num_bands, base = base, device = device, dtype = dtype)\n",
    "scales = scales[(*((None,) * (len(x.shape) - 1)), Ellipsis)]\n",
    "\n",
    "x = x * scales * pi\n",
    "x = torch.cat([x.sin(), x.cos()], dim=-1)\n",
    "x = torch.cat((x, orig_x), dim = -1)\n",
    "```\n",
    "$$\n",
    "scales[i] = base^{\\frac{\\log(freq/2) \\cdot i}{\\log(base) \\cdot (band -1 )}} = 10 ^ {\\frac{\\log(freq/2)}{band - 1}} = (\\frac{freq}{2}) ^ {\\frac{i}{band - 1}}\n",
    "$$"
   ],
   "cell_type": "markdown",
   "metadata": {}
  },
  {
   "cell_type": "code",
   "execution_count": 5,
   "metadata": {},
   "outputs": [
    {
     "output_type": "execute_result",
     "data": {
      "text/plain": [
       "[1.0,\n",
       " 1.379729661461215,\n",
       " 1.9036539387158786,\n",
       " 2.6265278044037674,\n",
       " 3.623898318388478,\n",
       " 5.0]"
      ]
     },
     "metadata": {},
     "execution_count": 5
    }
   ],
   "source": [
    "list(map(lambda x: 5**(0.2*x), [0, 1, 2, 3, 4, 5])) # 验证数值一致"
   ]
  },
  {
   "source": [
    "(X, Y) 有244*244个点，X $\\in$ \\[-1, 1\\], Y $\\in$ \\[-1, 1\\] 均匀分布。以X为例，X的encoding为13位:\n",
    "$$\n",
    "    \\sin(\\pi (freq/2)^0 x), \\sin(\\pi (freq/2)^{0.2} x),\\sin(\\pi (freq/2)^{0.4} x),\\sin(\\pi (freq/2)^{0.6} x),\\sin(\\pi (freq/2)^{0.8} x), \\sin(\\pi (freq/2)^{1.0} x),\\\\\n",
    "    \\cos(\\pi (freq/2)^0 x), \\cos(\\pi (freq/2)^{0.2} x),\\cos(\\pi (freq/2)^{0.4} x),\\cos(\\pi (freq/2)^{0.6} x),\\cos(\\pi (freq/2)^{0.8} x), \\cos(\\pi (freq/2)^{1.0} x), \\\\\n",
    "    x\\\\\n",
    "$$ \n",
    "Paper 中指出的是这个格式\n",
    "$\\left[\\sin \\left(f_{k} \\pi x_{d}\\right), \\cos \\left(f_{k} \\pi x_{d}\\right)\\right]$\n",
    "\n",
    "这里面的$f_k = (freq/2)^{k/(band-1)}$\n",
    "\n",
    "这里的设计很巧妙，在k=0时，是频率最低的时候，这个band下(即encoding的第0位和第6位)，$f_k$=1, 周期恰好为2，所有的X在这个band下没有重叠，相当于一个绝对编码，可以绝对地区分每一个X。\n",
    "\n",
    "当k越大时，频率约高，可以表征不同粒度(尺度)下的相对位置关系。\n",
    "\n",
    "单独的一个X也可以表征绝对位置。可视化如下图:\n",
    "\n",
    "<img src=\"figures/Vis_X_Fourier_Encoding.png\" width = \"300\" height = \"200\" alt=\"图片名称\" align=center />\n",
    "\n",
    "这就相当于给了我们一种可行的$f_k$的设计，那就是从恰好一个周期的绝对表征开始，逐渐加大频率，最高频率根据粒度而定。\n"
   ],
   "cell_type": "markdown",
   "metadata": {}
  },
  {
   "source": [
    "在latent transformer部分:\n",
    "\n",
    "采用的是256(N) * 512(d)的设置，positional encoding 沿用了和transformer相同的PE:\n",
    "\n",
    "$$\n",
    "\\sin\\big(\\frac{pos}{10000^{\\frac{2i}{d}}}\\big), \\cos\\big(\\frac{pos}{10000^{\\frac{2i}{d}}}\\big), i \\in [0, d/2)\n",
    "$$\n",
    "\n",
    "整体上也可以纳入fourier encoding的范畴，$f_k = \\frac{1}{\\pi\\times 10000^{\\frac{2k}{d}}}$\n",
    "\n",
    "为什么选择10000？\n",
    "\n",
    "根据上面的分析，至少要保证encoding的一个band能够表示绝对编码，也就是要求最长的周期要大于256(N), 即$2\\pi\\times base > 256$, base > 41, 选择base为10000， 则可以保证最长31400的序列都可以有绝对的编码，这种意义上base越大越好(反正最小周期都是2$\\pi$)\n",
    "\n",
    "<img src=\"figures/Vis_Transformer_PE.png\" width = \"300\" height = \"200\" alt=\"图片名称\" align=center />\n"
   ],
   "cell_type": "markdown",
   "metadata": {}
  },
  {
   "cell_type": "code",
   "execution_count": null,
   "metadata": {},
   "outputs": [],
   "source": []
  }
 ]
}